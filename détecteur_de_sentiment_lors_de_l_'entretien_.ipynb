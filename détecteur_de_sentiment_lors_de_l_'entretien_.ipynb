{
  "nbformat": 4,
  "nbformat_minor": 0,
  "metadata": {
    "colab": {
      "provenance": [],
      "authorship_tag": "ABX9TyOw7kr+RTJIY3PURskfMRET",
      "include_colab_link": true
    },
    "kernelspec": {
      "name": "python3",
      "display_name": "Python 3"
    },
    "language_info": {
      "name": "python"
    }
  },
  "cells": [
    {
      "cell_type": "markdown",
      "metadata": {
        "id": "view-in-github",
        "colab_type": "text"
      },
      "source": [
        "<a href=\"https://colab.research.google.com/github/khalfaouiamine7/Cityinlink/blob/main/d%C3%A9tecteur_de_sentiment_lors_de_l_'entretien_.ipynb\" target=\"_parent\"><img src=\"https://colab.research.google.com/assets/colab-badge.svg\" alt=\"Open In Colab\"/></a>"
      ]
    },
    {
      "cell_type": "code",
      "execution_count": 18,
      "metadata": {
        "id": "ewMMRHt95HmM"
      },
      "outputs": [],
      "source": [
        "import pandas as pd\n",
        "import numpy as np\n",
        "import os\n",
        "import seaborn as sns\n",
        "import matplotlib.pyplot as plt\n",
        "import librosa\n",
        "import librosa.display\n",
        "from IPython.display import Audio\n",
        "\n",
        "import torchaudio\n",
        "import torch\n",
        "from torch.utils.data import Dataset, DataLoader\n",
        "from transformers import Wav2Vec2Model, Wav2Vec2Processor, Trainer, TrainingArguments, Wav2Vec2ForSequenceClassification\n",
        "\n",
        "import warnings\n",
        "warnings.filterwarnings('ignore')\n"
      ]
    },
    {
      "cell_type": "code",
      "source": [
        "import moviepy.editor as mp\n",
        "\n",
        "video = mp.VideoFileClip(\"ww.mp4\")\n",
        "video.audio.write_audiofile(\"audio.wav\")\n"
      ],
      "metadata": {
        "colab": {
          "base_uri": "https://localhost:8080/"
        },
        "id": "wt4RdTjyBD9Z",
        "outputId": "7f1c8c05-4188-46c7-9b3c-28d2e79721fc"
      },
      "execution_count": 19,
      "outputs": [
        {
          "output_type": "stream",
          "name": "stdout",
          "text": [
            "MoviePy - Writing audio in audio.wav\n"
          ]
        },
        {
          "output_type": "stream",
          "name": "stderr",
          "text": [
            "                                                                      "
          ]
        },
        {
          "output_type": "stream",
          "name": "stdout",
          "text": [
            "MoviePy - Done.\n"
          ]
        },
        {
          "output_type": "stream",
          "name": "stderr",
          "text": [
            "\r"
          ]
        }
      ]
    },
    {
      "cell_type": "code",
      "source": [
        "!pip install SpeechRecognition\n"
      ],
      "metadata": {
        "colab": {
          "base_uri": "https://localhost:8080/"
        },
        "id": "Un7NRFFdFKwK",
        "outputId": "941db594-c6a4-49c2-9469-8bfa18208b25"
      },
      "execution_count": 20,
      "outputs": [
        {
          "output_type": "stream",
          "name": "stdout",
          "text": [
            "Requirement already satisfied: SpeechRecognition in /usr/local/lib/python3.11/dist-packages (3.14.2)\n",
            "Requirement already satisfied: typing-extensions in /usr/local/lib/python3.11/dist-packages (from SpeechRecognition) (4.13.1)\n"
          ]
        }
      ]
    },
    {
      "cell_type": "code",
      "source": [
        "import speech_recognition as sr\n",
        "\n",
        "recognizer = sr.Recognizer()\n",
        "with sr.AudioFile(\"audio.wav\") as source:\n",
        "    audio = recognizer.record(source)\n",
        "\n",
        "# Transcription\n",
        "texte = recognizer.recognize_google(audio, language=\"fr-FR\")\n",
        "print(\"📝 Texte reconnu :\", texte)\n",
        "\n",
        "# Vérifier la présence de mots techniques\n",
        "mots_techniques = [\"python\", \"TP\", \"parcours\", \"bac\", \"base de données\"]\n",
        "score_tech = sum(mot in texte.lower() for mot in mots_techniques)\n",
        "print(\"📊 Score technique :\", score_tech, \"/\", len(mots_techniques))\n"
      ],
      "metadata": {
        "colab": {
          "base_uri": "https://localhost:8080/"
        },
        "id": "2d9loHXMFmvM",
        "outputId": "d4ae093f-26dc-4a56-8af9-58a42ed0b611"
      },
      "execution_count": 21,
      "outputs": [
        {
          "output_type": "stream",
          "name": "stdout",
          "text": [
            "📝 Texte reconnu : bonjour à tous aujourd'hui je suis ravi de vous parler au nom de technovation un mouvement politique kiné avec une simple idée mais puissante mettre la technologie au service de chacun le croyons fermement que la technologie peut et doit être un outil pour réduire la pauvreté et créer une société plus équitable dans notre partie nous visons à transformer l'avenir grâce à trois actions clés premièrement rendre l'éducation accessible à tous grâce à des plateformes en ligne pour que chaque enfant ou qu'il soit puisse apprendre deuxièmement en santé nous proposons des innovations comme la télémédecine pour que les soins soient accessibles même dans les régions les plus isolées enfin imaginons un réseau de transport durable et intelligent conclure technovation c'est plus qu'un parti c'est un engagement pour un futur ou chacun profite des avancées technologiques alors rejoignez-nous pour construire un pays plus juste connecté et Moder\n",
            "📊 Score technique : 0 / 5\n"
          ]
        }
      ]
    },
    {
      "cell_type": "code",
      "source": [
        "!pip install deepface\n"
      ],
      "metadata": {
        "colab": {
          "base_uri": "https://localhost:8080/"
        },
        "id": "9mNkVa-TGlNR",
        "outputId": "366f1a52-e1bc-48eb-ddd1-0765ae64d62c"
      },
      "execution_count": 22,
      "outputs": [
        {
          "output_type": "stream",
          "name": "stdout",
          "text": [
            "Requirement already satisfied: deepface in /usr/local/lib/python3.11/dist-packages (0.0.93)\n",
            "Requirement already satisfied: requests>=2.27.1 in /usr/local/lib/python3.11/dist-packages (from deepface) (2.32.3)\n",
            "Requirement already satisfied: numpy>=1.14.0 in /usr/local/lib/python3.11/dist-packages (from deepface) (2.0.2)\n",
            "Requirement already satisfied: pandas>=0.23.4 in /usr/local/lib/python3.11/dist-packages (from deepface) (2.2.2)\n",
            "Requirement already satisfied: gdown>=3.10.1 in /usr/local/lib/python3.11/dist-packages (from deepface) (5.2.0)\n",
            "Requirement already satisfied: tqdm>=4.30.0 in /usr/local/lib/python3.11/dist-packages (from deepface) (4.67.1)\n",
            "Requirement already satisfied: Pillow>=5.2.0 in /usr/local/lib/python3.11/dist-packages (from deepface) (11.1.0)\n",
            "Requirement already satisfied: opencv-python>=4.5.5.64 in /usr/local/lib/python3.11/dist-packages (from deepface) (4.11.0.86)\n",
            "Requirement already satisfied: tensorflow>=1.9.0 in /usr/local/lib/python3.11/dist-packages (from deepface) (2.18.0)\n",
            "Requirement already satisfied: keras>=2.2.0 in /usr/local/lib/python3.11/dist-packages (from deepface) (3.8.0)\n",
            "Requirement already satisfied: Flask>=1.1.2 in /usr/local/lib/python3.11/dist-packages (from deepface) (3.1.0)\n",
            "Requirement already satisfied: flask-cors>=4.0.1 in /usr/local/lib/python3.11/dist-packages (from deepface) (5.0.1)\n",
            "Requirement already satisfied: mtcnn>=0.1.0 in /usr/local/lib/python3.11/dist-packages (from deepface) (1.0.0)\n",
            "Requirement already satisfied: retina-face>=0.0.1 in /usr/local/lib/python3.11/dist-packages (from deepface) (0.0.17)\n",
            "Requirement already satisfied: fire>=0.4.0 in /usr/local/lib/python3.11/dist-packages (from deepface) (0.7.0)\n",
            "Requirement already satisfied: gunicorn>=20.1.0 in /usr/local/lib/python3.11/dist-packages (from deepface) (23.0.0)\n",
            "Requirement already satisfied: termcolor in /usr/local/lib/python3.11/dist-packages (from fire>=0.4.0->deepface) (3.0.1)\n",
            "Requirement already satisfied: Werkzeug>=3.1 in /usr/local/lib/python3.11/dist-packages (from Flask>=1.1.2->deepface) (3.1.3)\n",
            "Requirement already satisfied: Jinja2>=3.1.2 in /usr/local/lib/python3.11/dist-packages (from Flask>=1.1.2->deepface) (3.1.6)\n",
            "Requirement already satisfied: itsdangerous>=2.2 in /usr/local/lib/python3.11/dist-packages (from Flask>=1.1.2->deepface) (2.2.0)\n",
            "Requirement already satisfied: click>=8.1.3 in /usr/local/lib/python3.11/dist-packages (from Flask>=1.1.2->deepface) (8.1.8)\n",
            "Requirement already satisfied: blinker>=1.9 in /usr/local/lib/python3.11/dist-packages (from Flask>=1.1.2->deepface) (1.9.0)\n",
            "Requirement already satisfied: beautifulsoup4 in /usr/local/lib/python3.11/dist-packages (from gdown>=3.10.1->deepface) (4.13.3)\n",
            "Requirement already satisfied: filelock in /usr/local/lib/python3.11/dist-packages (from gdown>=3.10.1->deepface) (3.18.0)\n",
            "Requirement already satisfied: packaging in /usr/local/lib/python3.11/dist-packages (from gunicorn>=20.1.0->deepface) (24.2)\n",
            "Requirement already satisfied: absl-py in /usr/local/lib/python3.11/dist-packages (from keras>=2.2.0->deepface) (1.4.0)\n",
            "Requirement already satisfied: rich in /usr/local/lib/python3.11/dist-packages (from keras>=2.2.0->deepface) (13.9.4)\n",
            "Requirement already satisfied: namex in /usr/local/lib/python3.11/dist-packages (from keras>=2.2.0->deepface) (0.0.8)\n",
            "Requirement already satisfied: h5py in /usr/local/lib/python3.11/dist-packages (from keras>=2.2.0->deepface) (3.13.0)\n",
            "Requirement already satisfied: optree in /usr/local/lib/python3.11/dist-packages (from keras>=2.2.0->deepface) (0.15.0)\n",
            "Requirement already satisfied: ml-dtypes in /usr/local/lib/python3.11/dist-packages (from keras>=2.2.0->deepface) (0.4.1)\n",
            "Requirement already satisfied: joblib>=1.4.2 in /usr/local/lib/python3.11/dist-packages (from mtcnn>=0.1.0->deepface) (1.4.2)\n",
            "Requirement already satisfied: lz4>=4.3.3 in /usr/local/lib/python3.11/dist-packages (from mtcnn>=0.1.0->deepface) (4.4.4)\n",
            "Requirement already satisfied: python-dateutil>=2.8.2 in /usr/local/lib/python3.11/dist-packages (from pandas>=0.23.4->deepface) (2.8.2)\n",
            "Requirement already satisfied: pytz>=2020.1 in /usr/local/lib/python3.11/dist-packages (from pandas>=0.23.4->deepface) (2025.2)\n",
            "Requirement already satisfied: tzdata>=2022.7 in /usr/local/lib/python3.11/dist-packages (from pandas>=0.23.4->deepface) (2025.2)\n",
            "Requirement already satisfied: charset-normalizer<4,>=2 in /usr/local/lib/python3.11/dist-packages (from requests>=2.27.1->deepface) (3.4.1)\n",
            "Requirement already satisfied: idna<4,>=2.5 in /usr/local/lib/python3.11/dist-packages (from requests>=2.27.1->deepface) (3.10)\n",
            "Requirement already satisfied: urllib3<3,>=1.21.1 in /usr/local/lib/python3.11/dist-packages (from requests>=2.27.1->deepface) (2.3.0)\n",
            "Requirement already satisfied: certifi>=2017.4.17 in /usr/local/lib/python3.11/dist-packages (from requests>=2.27.1->deepface) (2025.1.31)\n",
            "Requirement already satisfied: astunparse>=1.6.0 in /usr/local/lib/python3.11/dist-packages (from tensorflow>=1.9.0->deepface) (1.6.3)\n",
            "Requirement already satisfied: flatbuffers>=24.3.25 in /usr/local/lib/python3.11/dist-packages (from tensorflow>=1.9.0->deepface) (25.2.10)\n",
            "Requirement already satisfied: gast!=0.5.0,!=0.5.1,!=0.5.2,>=0.2.1 in /usr/local/lib/python3.11/dist-packages (from tensorflow>=1.9.0->deepface) (0.6.0)\n",
            "Requirement already satisfied: google-pasta>=0.1.1 in /usr/local/lib/python3.11/dist-packages (from tensorflow>=1.9.0->deepface) (0.2.0)\n",
            "Requirement already satisfied: libclang>=13.0.0 in /usr/local/lib/python3.11/dist-packages (from tensorflow>=1.9.0->deepface) (18.1.1)\n",
            "Requirement already satisfied: opt-einsum>=2.3.2 in /usr/local/lib/python3.11/dist-packages (from tensorflow>=1.9.0->deepface) (3.4.0)\n",
            "Requirement already satisfied: protobuf!=4.21.0,!=4.21.1,!=4.21.2,!=4.21.3,!=4.21.4,!=4.21.5,<6.0.0dev,>=3.20.3 in /usr/local/lib/python3.11/dist-packages (from tensorflow>=1.9.0->deepface) (5.29.4)\n",
            "Requirement already satisfied: setuptools in /usr/local/lib/python3.11/dist-packages (from tensorflow>=1.9.0->deepface) (75.2.0)\n",
            "Requirement already satisfied: six>=1.12.0 in /usr/local/lib/python3.11/dist-packages (from tensorflow>=1.9.0->deepface) (1.17.0)\n",
            "Requirement already satisfied: typing-extensions>=3.6.6 in /usr/local/lib/python3.11/dist-packages (from tensorflow>=1.9.0->deepface) (4.13.1)\n",
            "Requirement already satisfied: wrapt>=1.11.0 in /usr/local/lib/python3.11/dist-packages (from tensorflow>=1.9.0->deepface) (1.17.2)\n",
            "Requirement already satisfied: grpcio<2.0,>=1.24.3 in /usr/local/lib/python3.11/dist-packages (from tensorflow>=1.9.0->deepface) (1.71.0)\n",
            "Requirement already satisfied: tensorboard<2.19,>=2.18 in /usr/local/lib/python3.11/dist-packages (from tensorflow>=1.9.0->deepface) (2.18.0)\n",
            "Requirement already satisfied: tensorflow-io-gcs-filesystem>=0.23.1 in /usr/local/lib/python3.11/dist-packages (from tensorflow>=1.9.0->deepface) (0.37.1)\n",
            "Requirement already satisfied: wheel<1.0,>=0.23.0 in /usr/local/lib/python3.11/dist-packages (from astunparse>=1.6.0->tensorflow>=1.9.0->deepface) (0.45.1)\n",
            "Requirement already satisfied: MarkupSafe>=2.0 in /usr/local/lib/python3.11/dist-packages (from Jinja2>=3.1.2->Flask>=1.1.2->deepface) (3.0.2)\n",
            "Requirement already satisfied: markdown>=2.6.8 in /usr/local/lib/python3.11/dist-packages (from tensorboard<2.19,>=2.18->tensorflow>=1.9.0->deepface) (3.7)\n",
            "Requirement already satisfied: tensorboard-data-server<0.8.0,>=0.7.0 in /usr/local/lib/python3.11/dist-packages (from tensorboard<2.19,>=2.18->tensorflow>=1.9.0->deepface) (0.7.2)\n",
            "Requirement already satisfied: soupsieve>1.2 in /usr/local/lib/python3.11/dist-packages (from beautifulsoup4->gdown>=3.10.1->deepface) (2.6)\n",
            "Requirement already satisfied: PySocks!=1.5.7,>=1.5.6 in /usr/local/lib/python3.11/dist-packages (from requests[socks]->gdown>=3.10.1->deepface) (1.7.1)\n",
            "Requirement already satisfied: markdown-it-py>=2.2.0 in /usr/local/lib/python3.11/dist-packages (from rich->keras>=2.2.0->deepface) (3.0.0)\n",
            "Requirement already satisfied: pygments<3.0.0,>=2.13.0 in /usr/local/lib/python3.11/dist-packages (from rich->keras>=2.2.0->deepface) (2.18.0)\n",
            "Requirement already satisfied: mdurl~=0.1 in /usr/local/lib/python3.11/dist-packages (from markdown-it-py>=2.2.0->rich->keras>=2.2.0->deepface) (0.1.2)\n"
          ]
        }
      ]
    },
    {
      "cell_type": "code",
      "source": [
        "import cv2\n",
        "from deepface import DeepFace\n",
        "from collections import Counter\n",
        "\n",
        "cap = cv2.VideoCapture(\"aa.mp4\")\n",
        "frame_count = 0\n",
        "emotion_counts = Counter()\n",
        "\n",
        "# Pondération des émotions selon leur \"valence\"\n",
        "emotion_weights = {\n",
        "    'happy': 1,\n",
        "    'surprise': 0.8,\n",
        "    'neutral': 0.5,\n",
        "    'sad': -0.5,\n",
        "    'angry': -1,\n",
        "    'fear': -0.8,\n",
        "    'disgust': -0.6\n",
        "}\n",
        "\n",
        "while True:\n",
        "    ret, frame = cap.read()\n",
        "    if not ret:\n",
        "        break\n",
        "\n",
        "    if frame_count % 30 == 0:  # 1 frame par seconde\n",
        "        try:\n",
        "            result = DeepFace.analyze(frame, actions=['emotion'], enforce_detection=False)\n",
        "            dominant = result[0]['dominant_emotion']\n",
        "            emotion_counts[dominant] += 1\n",
        "        except:\n",
        "            emotion_counts[\"inconnu\"] += 1\n",
        "\n",
        "    frame_count += 1\n",
        "\n",
        "cap.release()\n",
        "\n",
        "# Calcul du score pondéré\n",
        "total_frames = sum(emotion_counts.values())\n",
        "score = 0\n",
        "for emotion, count in emotion_counts.items():\n",
        "    weight = emotion_weights.get(emotion, 0)\n",
        "    score += weight * count\n",
        "\n",
        "# Normaliser le score sur 100\n",
        "score_normalized = (score + total_frames) / (2 * total_frames) * 100\n",
        "\n",
        "print(\"📊 Répartition des émotions :\", dict(emotion_counts))\n",
        "print(f\"😄 Score facial (normalisé) : {score_normalized:.2f} / 100\")\n"
      ],
      "metadata": {
        "colab": {
          "base_uri": "https://localhost:8080/"
        },
        "id": "ufz35xQyGzq4",
        "outputId": "33dd4d33-e1aa-4758-b889-01a1900276dd"
      },
      "execution_count": 27,
      "outputs": [
        {
          "output_type": "stream",
          "name": "stdout",
          "text": [
            "📊 Répartition des émotions : {'neutral': 31, 'sad': 26, 'happy': 1, 'fear': 1}\n",
            "😄 Score facial (normalisé) : 52.29 / 100\n"
          ]
        }
      ]
    },
    {
      "cell_type": "code",
      "source": [
        "import cv2\n",
        "from deepface import DeepFace\n",
        "import matplotlib.pyplot as plt\n",
        "from collections import Counter\n",
        "\n",
        "# Charger la vidéo\n",
        "video_path = \"ww.mp4\"\n",
        "cap = cv2.VideoCapture(video_path)\n",
        "\n",
        "frame_count = 0\n",
        "emotion_list = []\n",
        "\n",
        "while cap.isOpened():\n",
        "    ret, frame = cap.read()\n",
        "    if not ret:\n",
        "        break\n",
        "\n",
        "    if frame_count % 30 == 0:  # 1 frame/seconde si 30 fps\n",
        "        try:\n",
        "            result = DeepFace.analyze(frame, actions=['emotion'], enforce_detection=False)\n",
        "            dominant = result[0]['dominant_emotion']\n",
        "            emotion_list.append(dominant)\n",
        "            print(f\"🧠 Emotion détectée à {frame_count//30}s : {dominant}\")\n",
        "        except Exception as e:\n",
        "            print(\"Erreur :\", e)\n",
        "            emotion_list.append(\"unknown\")\n",
        "\n",
        "    frame_count += 1\n",
        "\n",
        "cap.release()\n",
        "\n",
        "# Analyse statistique\n",
        "emotion_counts = Counter(emotion_list)\n",
        "print(\"\\n📊 Résumé des émotions :\")\n",
        "for emotion, count in emotion_counts.items():\n",
        "    print(f\"{emotion}: {count} fois\")\n",
        "\n",
        "# Visualisation\n",
        "plt.figure(figsize=(10,5))\n",
        "plt.bar(emotion_counts.keys(), emotion_counts.values(), color='skyblue')\n",
        "plt.title(\"Analyse des émotions détectées\")\n",
        "plt.xlabel(\"Émotion\")\n",
        "plt.ylabel(\"Occurrences\")\n",
        "plt.show()\n"
      ],
      "metadata": {
        "colab": {
          "base_uri": "https://localhost:8080/",
          "height": 1000
        },
        "id": "xPFhEs-iHX0j",
        "outputId": "34f30f90-1d71-49a4-bb4d-80bc25881728"
      },
      "execution_count": 29,
      "outputs": [
        {
          "output_type": "stream",
          "name": "stdout",
          "text": [
            "🧠 Emotion détectée à 0s : neutral\n",
            "🧠 Emotion détectée à 1s : neutral\n",
            "🧠 Emotion détectée à 2s : happy\n",
            "🧠 Emotion détectée à 3s : fear\n",
            "🧠 Emotion détectée à 4s : neutral\n",
            "🧠 Emotion détectée à 5s : neutral\n",
            "🧠 Emotion détectée à 6s : neutral\n",
            "🧠 Emotion détectée à 7s : neutral\n",
            "🧠 Emotion détectée à 8s : neutral\n",
            "🧠 Emotion détectée à 9s : neutral\n",
            "🧠 Emotion détectée à 10s : happy\n",
            "🧠 Emotion détectée à 11s : happy\n",
            "🧠 Emotion détectée à 12s : neutral\n",
            "🧠 Emotion détectée à 13s : happy\n",
            "🧠 Emotion détectée à 14s : neutral\n",
            "🧠 Emotion détectée à 15s : neutral\n",
            "🧠 Emotion détectée à 16s : neutral\n",
            "🧠 Emotion détectée à 17s : neutral\n",
            "🧠 Emotion détectée à 18s : neutral\n",
            "🧠 Emotion détectée à 19s : neutral\n",
            "🧠 Emotion détectée à 20s : neutral\n",
            "🧠 Emotion détectée à 21s : neutral\n",
            "🧠 Emotion détectée à 22s : neutral\n",
            "🧠 Emotion détectée à 23s : happy\n",
            "🧠 Emotion détectée à 24s : neutral\n",
            "🧠 Emotion détectée à 25s : neutral\n",
            "🧠 Emotion détectée à 26s : neutral\n",
            "🧠 Emotion détectée à 27s : angry\n",
            "🧠 Emotion détectée à 28s : neutral\n",
            "🧠 Emotion détectée à 29s : neutral\n",
            "🧠 Emotion détectée à 30s : neutral\n",
            "🧠 Emotion détectée à 31s : neutral\n",
            "🧠 Emotion détectée à 32s : neutral\n",
            "🧠 Emotion détectée à 33s : neutral\n",
            "🧠 Emotion détectée à 34s : neutral\n",
            "🧠 Emotion détectée à 35s : sad\n",
            "🧠 Emotion détectée à 36s : neutral\n",
            "🧠 Emotion détectée à 37s : neutral\n",
            "🧠 Emotion détectée à 38s : neutral\n",
            "🧠 Emotion détectée à 39s : sad\n",
            "🧠 Emotion détectée à 40s : neutral\n",
            "🧠 Emotion détectée à 41s : neutral\n",
            "🧠 Emotion détectée à 42s : sad\n",
            "🧠 Emotion détectée à 43s : angry\n",
            "🧠 Emotion détectée à 44s : neutral\n",
            "🧠 Emotion détectée à 45s : neutral\n",
            "🧠 Emotion détectée à 46s : neutral\n",
            "🧠 Emotion détectée à 47s : fear\n",
            "🧠 Emotion détectée à 48s : neutral\n",
            "🧠 Emotion détectée à 49s : neutral\n",
            "🧠 Emotion détectée à 50s : sad\n",
            "🧠 Emotion détectée à 51s : neutral\n",
            "🧠 Emotion détectée à 52s : neutral\n",
            "🧠 Emotion détectée à 53s : neutral\n",
            "🧠 Emotion détectée à 54s : neutral\n",
            "🧠 Emotion détectée à 55s : neutral\n",
            "🧠 Emotion détectée à 56s : neutral\n",
            "🧠 Emotion détectée à 57s : neutral\n",
            "🧠 Emotion détectée à 58s : neutral\n",
            "🧠 Emotion détectée à 59s : happy\n",
            "🧠 Emotion détectée à 60s : neutral\n",
            "🧠 Emotion détectée à 61s : neutral\n",
            "🧠 Emotion détectée à 62s : neutral\n",
            "🧠 Emotion détectée à 63s : neutral\n",
            "🧠 Emotion détectée à 64s : happy\n",
            "🧠 Emotion détectée à 65s : happy\n",
            "\n",
            "📊 Résumé des émotions :\n",
            "neutral: 50 fois\n",
            "happy: 8 fois\n",
            "fear: 2 fois\n",
            "angry: 2 fois\n",
            "sad: 4 fois\n"
          ]
        },
        {
          "output_type": "display_data",
          "data": {
            "text/plain": [
              "<Figure size 1000x500 with 1 Axes>"
            ],
            "image/png": "[encoded data removed]"
          },
          "metadata": {}
        }
      ]
    },
    {
      "cell_type": "code",
      "source": [
        "score_facial = 0\n",
        "for emotion in emotion_list:\n",
        "    if emotion in [\"happy\", \"surprise\"]:\n",
        "        score_facial += 1\n",
        "\n",
        "score_facial_percent = (score_facial / len(emotion_list)) * 100\n",
        "print(f\"🧮 Score émotion positif : {score_facial_percent:.2f}%\")\n"
      ],
      "metadata": {
        "colab": {
          "base_uri": "https://localhost:8080/"
        },
        "id": "Nxz_zVGYHgdg",
        "outputId": "021894b5-6fc8-439d-b981-d10290d03182"
      },
      "execution_count": 30,
      "outputs": [
        {
          "output_type": "stream",
          "name": "stdout",
          "text": [
            "🧮 Score émotion positif : 12.12%\n"
          ]
        }
      ]
    },
    {
      "cell_type": "code",
      "source": [
        "score_final = (score_facial / len(emotions)) * 50 + (score_tech / len(mots_techniques)) * 50\n",
        "print(f\"🎯 Score global : {score_final:.2f} / 100\")\n",
        "\n",
        "if score_final >= 60:\n",
        "    print(\"✅ Candidat ACCEPTÉ\")\n",
        "else:\n",
        "    print(\"❌ Candidat REFUSÉ\")\n"
      ],
      "metadata": {
        "colab": {
          "base_uri": "https://localhost:8080/"
        },
        "id": "cYqDnie2Hosj",
        "outputId": "4cf5f7d2-3362-4d18-8465-03b9eee738bf"
      },
      "execution_count": 31,
      "outputs": [
        {
          "output_type": "stream",
          "name": "stdout",
          "text": [
            "🎯 Score global : 6.78 / 100\n",
            "❌ Candidat REFUSÉ\n"
          ]
        }
      ]
    }
  ]
}